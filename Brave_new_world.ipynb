{
 "cells": [
  {
   "cell_type": "markdown",
   "metadata": {
    "slideshow": {
     "slide_type": "slide"
    }
   },
   "source": [
    "# A Brave New World\n",
    "> LiquidX Studio Tech Talk Jan'23\n",
    "\n",
    "![BraveNewWorld](./img/BraveNewWorld_FirstEdition.jpeg)"
   ]
  },
  {
   "cell_type": "markdown",
   "metadata": {
    "slideshow": {
     "slide_type": "slide"
    }
   },
   "source": [
    "# Major global events\n",
    "- End of pandemic\n",
    "    - Reduced online activities\n",
    "    - Food crisis\n",
    "- Wars\n",
    "    - Increased energy price\n",
    "    - Economic sanctions"
   ]
  },
  {
   "cell_type": "markdown",
   "metadata": {
    "slideshow": {
     "slide_type": "slide"
    }
   },
   "source": [
    "#  Major global events\n",
    "## State of the economy\n",
    "- Rising inflation\n",
    "- Change in monetary policies\n"
   ]
  },
  {
   "cell_type": "markdown",
   "metadata": {
    "slideshow": {
     "slide_type": "slide"
    }
   },
   "source": [
    "# The perfect storm\n",
    "![Changing tech landscape](./img/Changing_tech_landscape.png)"
   ]
  },
  {
   "cell_type": "markdown",
   "metadata": {
    "slideshow": {
     "slide_type": "slide"
    }
   },
   "source": [
    "# What do the following organizations have in common?\n",
    "- Amazon (18K)\n",
    "- Microsoft (10K+)\n",
    "- Google (10K)\n",
    "- Twitter (50%)\n",
    "- Facebook (11K)\n",
    "- Salesforce (10%)\n",
    "- Uber (14%)\n",
    "- IBM (3.9K)\n",
    "- SAP (2.5K)\n",
    "- Hiring freeze across the industry\n",
    "- Layoffs in Asian tech to begin in Feb/March\n",
    "    - Airlift (100%) - Largest series B funding __ever__ in Pakistan\n",
    "source [layoffs.fyi](https://layoffs.fyi)"
   ]
  },
  {
   "cell_type": "markdown",
   "metadata": {
    "slideshow": {
     "slide_type": "slide"
    }
   },
   "source": [
    "# Rise of the machines\n",
    "![ai-thinker](./img/ai-thinker.jpeg)"
   ]
  },
  {
   "cell_type": "markdown",
   "metadata": {
    "slideshow": {
     "slide_type": "slide"
    }
   },
   "source": [
    "# Chess - Magnus Carlsen vs Alphazero\n",
    "![Carlsen](./img/Carlsen_vs_alphazero.png)"
   ]
  },
  {
   "cell_type": "markdown",
   "metadata": {
    "slideshow": {
     "slide_type": "slide"
    }
   },
   "source": [
    "# AlphaGo\n",
    "- A board game that has more possible positions than the total number of atoms in the universe ($10^{172}$)\n",
    "\n",
    "![Lee Sedol](./img/Lee_sedol_retirement_alphago.png)"
   ]
  },
  {
   "cell_type": "markdown",
   "metadata": {
    "slideshow": {
     "slide_type": "slide"
    }
   },
   "source": [
    "# ChatGPT\n",
    "\n",
    "## Write a smart contract for an NFT using Solidity that is non-transferable\n",
    "\n",
    "```javascript\n",
    "pragma solidity ^0.8.0;\n",
    "\n",
    "contract NonTransferrableNFT {\n",
    "    mapping (uint256 => bool) public ownership;\n",
    "\n",
    "    function mint(uint256 tokenId) public {\n",
    "        require(!ownership[tokenId]);\n",
    "        ownership[tokenId] = true;\n",
    "    }\n",
    "\n",
    "    function burn(uint256 tokenId) public {\n",
    "        require(ownership[tokenId]);\n",
    "        ownership[tokenId] = false;\n",
    "    }\n",
    "\n",
    "    function isNonTransferable(uint256 tokenId) public view returns (bool) {\n",
    "        return true;\n",
    "    }\n",
    "}\n",
    "```"
   ]
  },
  {
   "cell_type": "markdown",
   "metadata": {
    "slideshow": {
     "slide_type": "slide"
    }
   },
   "source": [
    "# ChatGPT\n",
    "\n",
    "This smart contract represents a non-transferable NFT. The contract has a mapping of token IDs to a boolean value indicating whether the token is owned or not. The mint function is used to mint a new token and assign it to the msg.sender. The burn function is used to burn an existing token, making it unowned. The isNonTransferable function is used to check if the NFT is transferable or not, in this case it will always return true.\n",
    "\n",
    "Note : This is a very simple contract, which is not handling the edge cases and also there is no restriction on the msg.sender to burn the token which is minted by someone else, you can add more functionality as per your requirement."
   ]
  },
  {
   "cell_type": "markdown",
   "metadata": {
    "slideshow": {
     "slide_type": "slide"
    }
   },
   "source": [
    "> In a closed system, AI will always beat human intelligence - Gary Kasparov while discussing his match with IBM DeepBlue\n",
    "\n",
    "- AI wins since it always makes fewer mistakes"
   ]
  },
  {
   "cell_type": "markdown",
   "metadata": {
    "slideshow": {
     "slide_type": "slide"
    }
   },
   "source": [
    "# The way forward\n",
    "> It is *not* Humans vs AI, it is Humans with AI - Gary Kasparov\n",
    "\n",
    "## If you cannot beat them, join them\n",
    "- AI and ML will become an integral part of Web3 and future Apps\n",
    "- So, educate yourself\n",
    "    - AI technologies and terminologies\n",
    "        - [100 page ML book](https://themlbook.com/)\n",
    "        - [Coursera courses](https://www.coursera.org/specializations/machine-learning-introduction)\n",
    "    - ML tools that you can incorporate in your apps\n",
    "        - ChatGPT\n",
    "        - Prophet\n",
    "        - Abacus.ai"
   ]
  },
  {
   "cell_type": "markdown",
   "metadata": {
    "slideshow": {
     "slide_type": "slide"
    }
   },
   "source": [
    "# Be a better developer, designer, architect, ...\n",
    "## Coding autocomplete demo with [tabnine](https://www.tabnine.com/)"
   ]
  },
  {
   "cell_type": "markdown",
   "metadata": {
    "slideshow": {
     "slide_type": "slide"
    }
   },
   "source": [
    "# LiquidX Engineering\n",
    "## Remote work/work issues\n",
    "- FYI you will need to notify us and HR if you relocate to a different timezone, decide to attend school, etc.\n",
    "- If you are invited to a meeting, you __must__ attend it\n",
    "- If you miss our daily standups or other meetings w/o prior approval\n",
    "    - there will be a steep fine (__USD 50__)"
   ]
  },
  {
   "cell_type": "markdown",
   "metadata": {
    "slideshow": {
     "slide_type": "slide"
    }
   },
   "source": [
    "# LiquidX Engineering\n",
    "## Work/task tracking\n",
    "- We have moved to Jira\n",
    "- You need to track your work as accurately as possible\n",
    "- You should __not__ be working too little or too much"
   ]
  },
  {
   "cell_type": "markdown",
   "metadata": {
    "slideshow": {
     "slide_type": "slide"
    }
   },
   "source": [
    "# LiquidX Engineering\n",
    "## Ownership\n",
    "- You are the owner of your feature\n",
    "    - Development, Unit test, QA (Dev/Release environment)\n",
    "    - You will be responsible for its functionality and quality\n",
    "    - We will have demos where you will show how your feature works\n",
    "- Assume, that there are *no* QA to validate your feature\n",
    "- QA team will work on\n",
    "    - E2E tests\n",
    "    - Production monitoring\n",
    "    - Automation testing\n",
    "    - Performance testing\n",
    "    - Security testing"
   ]
  },
  {
   "cell_type": "markdown",
   "metadata": {
    "slideshow": {
     "slide_type": "slide"
    }
   },
   "source": [
    "# LiquidX Engineering\n",
    "## Updated SDLC\n",
    "![updated_sdlc](./img/updated_sdlc.png)"
   ]
  },
  {
   "cell_type": "markdown",
   "metadata": {
    "slideshow": {
     "slide_type": "slide"
    }
   },
   "source": [
    "# LiquidX Engineering\n",
    "## Performance reviews\n",
    "- We will do quarterly performance reviews\n",
    "- Starting Q1/23\n",
    "- Matrix and career ladder (under HR review)\n",
    "    - we will present to you after the review"
   ]
  },
  {
   "cell_type": "markdown",
   "metadata": {
    "slideshow": {
     "slide_type": "slide"
    }
   },
   "source": [
    "# Q&A\n",
    "- [Credit](https://www.cbsnews.com/news/ibm-watson-defeats-humans-in-jeopardy/)\n",
    "![Watson vs Ken](./img/Watson_defeats_Ken.png)"
   ]
  },
  {
   "cell_type": "code",
   "execution_count": 1,
   "metadata": {
    "slideshow": {
     "slide_type": "skip"
    }
   },
   "outputs": [],
   "source": [
    "# Q&A"
   ]
  },
  {
   "cell_type": "code",
   "execution_count": null,
   "metadata": {
    "pycharm": {
     "is_executing": true
    },
    "slideshow": {
     "slide_type": "skip"
    }
   },
   "outputs": [],
   "source": []
  },
  {
   "cell_type": "code",
   "execution_count": null,
   "metadata": {
    "slideshow": {
     "slide_type": "skip"
    }
   },
   "outputs": [],
   "source": []
  }
 ],
 "metadata": {
  "celltoolbar": "Slideshow",
  "kernelspec": {
   "display_name": "Python 3 (ipykernel)",
   "language": "python",
   "name": "python3"
  },
  "language_info": {
   "codemirror_mode": {
    "name": "ipython",
    "version": 3
   },
   "file_extension": ".py",
   "mimetype": "text/x-python",
   "name": "python",
   "nbconvert_exporter": "python",
   "pygments_lexer": "ipython3",
   "version": "3.10.9"
  }
 },
 "nbformat": 4,
 "nbformat_minor": 1
}
