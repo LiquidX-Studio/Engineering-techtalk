{
 "cells": [
  {
   "cell_type": "markdown",
   "metadata": {
    "slideshow": {
     "slide_type": "slide"
    }
   },
   "source": [
    "# 10 Myths of Enterprise Python"
   ]
  },
  {
   "cell_type": "markdown",
   "metadata": {
    "slideshow": {
     "slide_type": "slide"
    }
   },
   "source": [
    "## Summarized from article by Paypal [10 Myths of Enterprise Python](https://medium.com/paypal-tech/10-myths-of-enterprise-python-8302b8f21f82)\n"
   ]
  },
  {
   "cell_type": "markdown",
   "metadata": {
    "slideshow": {
     "slide_type": "slide"
    }
   },
   "source": [
    "# Myth 1: Python is a new language\n",
    "- Python is actually over $30$ years old, originally released in 1991, 5-years before HTTP 1.0 and 4-years before Java.\n",
    "- A now-famous early usage of Python was in 1996: Google’s first successful web crawler."
   ]
  },
  {
   "cell_type": "markdown",
   "metadata": {
    "slideshow": {
     "slide_type": "slide"
    }
   },
   "source": [
    "# Myth 2: Python is not compiled\n",
    "- Python is *compiled* to bytecode like Java"
   ]
  },
  {
   "cell_type": "markdown",
   "metadata": {
    "slideshow": {
     "slide_type": "slide"
    }
   },
   "source": [
    "# Myth 3: Python is not secure\n",
    "- CPython is a simple, small, easily-auditable virtual machine\n",
    "    - Big systems are anti-secure\n",
    "- CPython received highest quality rating from Coverity"
   ]
  },
  {
   "cell_type": "markdown",
   "metadata": {
    "slideshow": {
     "slide_type": "slide"
    }
   },
   "source": [
    "# Myth 4: Python is a scripting language\n",
    "- Python can be used for scripting\n",
    "- Used as a generalized programming language\n",
    "    - Telephony infra (Twilio)\n",
    "    - Payment systems (Paypal)\n",
    "    - Animation (LucasArts)\n",
    "    - Gaming backends (Secondlife, Battlefield)\n",
    "    - Email infra (Mailman)\n",
    "    - Media storage (Youtube, Dropbox)\n",
    "    - Systems management (Openstack)\n",
    "    - Machine learning (scikit-learn, NLTK, Orange)\n",
    "    - Big Data (Disco)\n",
    "    - Search systems (Ultraseek, ITA)"
   ]
  },
  {
   "cell_type": "markdown",
   "metadata": {
    "slideshow": {
     "slide_type": "slide"
    }
   },
   "source": [
    "\n",
    "# Myth 5: Python is weakly-typed\n",
    "- Python is strong and dynamically typed\n",
    "- Current version has type-hinting, type-checking"
   ]
  },
  {
   "cell_type": "markdown",
   "metadata": {
    "slideshow": {
     "slide_type": "slide"
    }
   },
   "source": [
    "# Myth 6: Python is slow\n",
    "- Python is a programming language, Not a runtime\n",
    "- Several runtimes are available:\n",
    "    - CPython\n",
    "    - Jython\n",
    "    - IronPython\n",
    "    - PyPy\n",
    "- Example\n",
    "    - Matrix multiplication\n",
    "    - BLAST(C) is *thousands* of time faster than Python (loop-implementation)\n",
    "    - So, you need to use NumPy or similar libraries\n",
    "- Performance could be iteratively improved by profiling the app\n",
    "    - Scalene\n",
    "    - CProfile\n",
    "    - Yappi"
   ]
  },
  {
   "cell_type": "markdown",
   "metadata": {
    "slideshow": {
     "slide_type": "slide"
    }
   },
   "source": [
    "# Myth 7: Python does not scale\n",
    "- Youtube uses Python as core technology:\n",
    "    - More than 1 Billion unique visitors\n",
    "    - Over 100 hours of uploaded video per minute\n",
    "- Other uses:\n",
    "    - Dropbox\n",
    "    - Disqus\n",
    "    - Eventbrite\n",
    "    - Reddit\n",
    "    - Twilio\n",
    "    - Instagram\n",
    "    - Yelp\n",
    "    - EVE Online\n",
    "    - Second Life\n",
    "\n",
    "> Scaling is all about Measurement+Iteration"
   ]
  },
  {
   "cell_type": "markdown",
   "metadata": {
    "slideshow": {
     "slide_type": "slide"
    }
   },
   "source": [
    "# Myth 8: Python lacks good concurrency support (GIL?)\n",
    "- Python has concurrency primitives\n",
    "    - generators, greenlets, Deferreds, and futures\n",
    "- Python has concurrency frameworks\n",
    "    - eventlet, gevent, and Twisted\n",
    "- Python worked into customizing runtimes for concurrency\n",
    "    - Stackless\n",
    "    - PyPy\n",
    "- GIL\n",
    "    - Great support for using OS thread/greenlets [see this Q&A](http://programmers.stackexchange.com/questions/186889/why-was-python-written-with-the-gil)\n",
    "    - Does not impact use of multiple processes\n",
    "    - At Paypal, the robust/scalable service deployment has:\n",
    "        - multiple machines\n",
    "        - multiple processes\n",
    "        - multiple threads\n",
    "        - a very large number of greenlets"
   ]
  },
  {
   "cell_type": "markdown",
   "metadata": {
    "slideshow": {
     "slide_type": "slide"
    }
   },
   "source": [
    "# Myth 9: Python programmers are scarce\n",
    "- Some truth to this myth\n",
    "    - Industry demand + Education\n",
    "- The trend is changing [TIOBE index](https://www.tiobe.com/tiobe-index/#:~:text=C%2B%2B%20is%20TIOBE's%20programming%20language%20of%20the%20year%202022.,(%2B4.62%25)%20in%202022)\n",
    "\n",
    "![Tiobe-index](./img/Tiobe-index.png)\n",
    "\n",
    "- Python is\n",
    "    - easy to learn\n",
    "    - easy to build effective teams\n",
    "        - Instagram (had only few dozen engineers originally)\n",
    "        - Dropbox in 2011 (had 70 engineers)"
   ]
  },
  {
   "cell_type": "markdown",
   "metadata": {
    "slideshow": {
     "slide_type": "slide"
    }
   },
   "source": [
    "# Myth 10: Python is not for big projects\n",
    "- Tooling + Strong conventions + Code review\n",
    "    - Paypal uses PyFlakes and flake8\n",
    "    - Strictly adheres to PEP8\n",
    "- Bank of America\n",
    "    - 10 Million lines of Python\n",
    "- Youtube\n",
    "    - Thousands of engineers and Millions of lines of code"
   ]
  },
  {
   "cell_type": "code",
   "execution_count": null,
   "metadata": {
    "pycharm": {
     "is_executing": true
    },
    "slideshow": {
     "slide_type": "skip"
    }
   },
   "outputs": [],
   "source": []
  }
 ],
 "metadata": {
  "celltoolbar": "Slideshow",
  "kernelspec": {
   "display_name": "Python 3 (ipykernel)",
   "language": "python",
   "name": "python3"
  },
  "language_info": {
   "codemirror_mode": {
    "name": "ipython",
    "version": 3
   },
   "file_extension": ".py",
   "mimetype": "text/x-python",
   "name": "python",
   "nbconvert_exporter": "python",
   "pygments_lexer": "ipython3",
   "version": "3.10.9"
  }
 },
 "nbformat": 4,
 "nbformat_minor": 1
}
