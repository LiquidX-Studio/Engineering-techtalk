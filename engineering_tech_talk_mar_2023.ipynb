{
 "cells": [
  {
   "cell_type": "markdown",
   "metadata": {
    "slideshow": {
     "slide_type": "slide"
    }
   },
   "source": [
    "# Tech Talk\n",
    "## LiquidX Studio\n",
    "## Mar 2023"
   ]
  },
  {
   "cell_type": "markdown",
   "metadata": {
    "slideshow": {
     "slide_type": "slide"
    }
   },
   "source": [
    "# Agenda\n",
    "- Your skills\n",
    "- Direction of our company\n",
    "- Career path\n",
    "- Q&A"
   ]
  },
  {
   "cell_type": "markdown",
   "metadata": {
    "slideshow": {
     "slide_type": "slide"
    }
   },
   "source": [
    "# Software engineering skills\n",
    "![dreyfus_model](./img/Dreyfus_model.png)\n",
    "- source: [sumocoder.com](https://sumocoder.com)"
   ]
  },
  {
   "cell_type": "markdown",
   "metadata": {
    "slideshow": {
     "slide_type": "slide"
    }
   },
   "source": [
    "# Software engineering skills\n",
    "## Hard skills\n",
    "- Programming/coding\n",
    "> Any fool can write code that a computer can understand. Good programmers write code that humans can understand. - M. Fowler (1999)\n",
    "- Debugging\n",
    "- Problem-solving\n",
    "- Breaking down/chunking\n",
    "- Estimating"
   ]
  },
  {
   "cell_type": "markdown",
   "metadata": {
    "slideshow": {
     "slide_type": "slide"
    }
   },
   "source": [
    "# Software engineering skills\n",
    "## Soft skills\n",
    "- Asking Questions\n",
    "- Communication\n",
    "- Teamwork\n",
    "- Influence\n",
    "- Ownership"
   ]
  },
  {
   "cell_type": "markdown",
   "metadata": {
    "slideshow": {
     "slide_type": "slide"
    }
   },
   "source": [
    "# LiquidX Tech\n",
    "![liquidxtech](./img/LiquidXtech.png)"
   ]
  },
  {
   "cell_type": "markdown",
   "metadata": {
    "slideshow": {
     "slide_type": "slide"
    }
   },
   "source": [
    "# LiquidX tech\n",
    "## Specialization paths\n",
    "- Web3 and Blockchain technologies\n",
    "    - Training arranged by our blockchain team members\n",
    "- AI in gaming\n",
    "    - [Introduction to AI course](https://www.coursera.org/learn/introduction-to-ai)\n",
    "    - More training, hackathons coming"
   ]
  },
  {
   "cell_type": "markdown",
   "metadata": {
    "slideshow": {
     "slide_type": "slide"
    }
   },
   "source": [
    "# LiquidX career\n",
    "## Engineering values\n",
    "- Ownership\n",
    "    - Owns the product/feature end-to-end\n",
    "- Integrity\n",
    "    - Owns oversight, takes responsibility\n",
    "- Bias for action\n",
    "    - No analysis paralysis\n",
    "    - Build now vs build perfect\n",
    "- Curiosity\n",
    "    - Always learning, finding better solutions"
   ]
  },
  {
   "cell_type": "markdown",
   "metadata": {
    "slideshow": {
     "slide_type": "slide"
    }
   },
   "source": [
    "# LiquidX career\n",
    "![careerMatrixPillars](./img/CareerMatrixPillars.png)\n",
    "[Career matrix](./career_matrix.pdf)"
   ]
  },
  {
   "cell_type": "markdown",
   "metadata": {
    "slideshow": {
     "slide_type": "slide"
    }
   },
   "source": [
    "# LiquidX career\n",
    "## Performance levels\n",
    "![Performance_levels](./img/Performance_levels.png)"
   ]
  },
  {
   "cell_type": "markdown",
   "metadata": {
    "slideshow": {
     "slide_type": "slide"
    }
   },
   "source": [
    "# LiquidX career\n",
    "## Next steps\n",
    "- Adjust your title as per our career matrix\n",
    "- Discuss your performance\n",
    "- Discuss promotions and or improvements"
   ]
  },
  {
   "cell_type": "markdown",
   "metadata": {
    "slideshow": {
     "slide_type": "slide"
    }
   },
   "source": [
    "# Q&A\n",
    "![watson](./img/Watson_defeats_Ken.png)"
   ]
  },
  {
   "cell_type": "code",
   "execution_count": null,
   "metadata": {
    "slideshow": {
     "slide_type": "skip"
    }
   },
   "outputs": [],
   "source": []
  },
  {
   "cell_type": "code",
   "execution_count": null,
   "metadata": {
    "slideshow": {
     "slide_type": "skip"
    }
   },
   "outputs": [],
   "source": []
  }
 ],
 "metadata": {
  "celltoolbar": "Slideshow",
  "kernelspec": {
   "display_name": "Python 3 (ipykernel)",
   "language": "python",
   "name": "python3"
  },
  "language_info": {
   "codemirror_mode": {
    "name": "ipython",
    "version": 3
   },
   "file_extension": ".py",
   "mimetype": "text/x-python",
   "name": "python",
   "nbconvert_exporter": "python",
   "pygments_lexer": "ipython3",
   "version": "3.10.9"
  }
 },
 "nbformat": 4,
 "nbformat_minor": 1
}
